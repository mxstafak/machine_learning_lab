{
 "cells": [
  {
   "cell_type": "code",
   "execution_count": 79,
   "id": "996d2e1b-ce1f-4195-8d9c-f8eaecf37538",
   "metadata": {},
   "outputs": [],
   "source": [
    "import numpy as np \n",
    "import pandas as pd \n",
    "from sklearn.datasets import load_iris\n",
    "from sklearn.impute import KNNImputer  \n",
    "from sklearn.metrics import mean_squared_error\n",
    "from sklearn.model_selection import train_test_split"
   ]
  },
  {
   "cell_type": "markdown",
   "id": "43227c25-ff0e-48e8-ac33-97e050c5dbc2",
   "metadata": {},
   "source": [
    "### 1. KNN Imputation and Classification\n"
   ]
  },
  {
   "cell_type": "markdown",
   "id": "387d0f15-c936-4841-bc94-1b61ee7ee16c",
   "metadata": {},
   "source": [
    "#### 1"
   ]
  },
  {
   "cell_type": "code",
   "execution_count": 59,
   "id": "217ee34f-f19a-4fb2-b21e-3cdbf2120244",
   "metadata": {},
   "outputs": [
    {
     "name": "stdout",
     "output_type": "stream",
     "text": [
      "Number of NaN values in the training set: 65\n",
      "Number of NaN values in the testing set: 272\n"
     ]
    }
   ],
   "source": [
    "train = pd.read_csv(\"DodgerLoopGame_TRAIN.txt\", header=None, sep='\\s+')\n",
    "test = pd.read_csv(\"DodgerLoopGame_TEST.txt\", header=None, sep='\\s+')\n",
    "\n",
    "trainNaN = train.isna().sum().sum()\n",
    "testNaN = test.isna().sum().sum()\n",
    "\n",
    "print(f\"Number of NaN values in the training set: {trainNaN}\")\n",
    "print(f\"Number of NaN values in the testing set: {testNaN}\")"
   ]
  },
  {
   "cell_type": "markdown",
   "id": "ce63e46c-bbef-4587-b7fa-52aa28f8a05c",
   "metadata": {},
   "source": [
    "#### 2"
   ]
  },
  {
   "cell_type": "code",
   "execution_count": 100,
   "id": "43603ab5-5aff-4708-bd7c-1030cf5dc824",
   "metadata": {},
   "outputs": [
    {
     "name": "stdout",
     "output_type": "stream",
     "text": [
      "2\n",
      "9.479817708333334\n",
      "3\n",
      "9.939718364197532\n",
      "4\n",
      "10.52468532986111\n",
      "5\n",
      "10.84642361111111\n",
      "6\n",
      "11.785035686728397\n",
      "7\n",
      "11.847576530612246\n",
      "Optimal K for imputation: 2\n"
     ]
    }
   ],
   "source": [
    "dummy = train.dropna()  \n",
    "np.random.seed(42)\n",
    "\n",
    "# Create a mask to introduce missing values in a COPY of dummy\n",
    "mask = np.random.rand(*dummy.shape) < 0.2  # Mask 20% of the data\n",
    "dummy_masked = dummy.mask(mask)  # Introduce NaN values in the copy\n",
    "\n",
    "# Split masked data into train/val sets\n",
    "train_data_values = dummy_masked.iloc[:, 1:]  # Exclude the label column\n",
    "train_labels = dummy_masked.iloc[:, 0]\n",
    "X_train, X_val_masked = train_test_split(train_data_values, test_size=0.2, random_state=42)\n",
    "\n",
    "# Create a clean version of X_val from the original dataset (without NaNs)\n",
    "_, X_val_clean = train_test_split(dummy.iloc[:, 1:], test_size=0.2, random_state=42)\n",
    "\n",
    "\n",
    "optimal_k = None\n",
    "min_error = float('inf')\n",
    "\n",
    "for k in range(2,8):\n",
    "    imputer = KNNImputer(n_neighbors=k)    \n",
    "    X_train_imputed = imputer.fit_transform(X_train)\n",
    "    X_val_imputed = imputer.transform(X_val_masked)\n",
    "    error = mean_squared_error(X_val_clean, X_val_imputed)\n",
    "    print(k)\n",
    "    print(error)\n",
    "    if error < min_error:\n",
    "        min_error = error\n",
    "        optimal_k = k\n",
    "\n",
    "print(f\"Optimal K for imputation: {optimal_k}\")"
   ]
  },
  {
   "cell_type": "code",
   "execution_count": 101,
   "id": "d8bf0d30-8c36-455e-a994-4335d87cd6b9",
   "metadata": {},
   "outputs": [],
   "source": [
    "imputer = KNNImputer(n_neighbors=optimal_k)\n",
    "train_data_imputed = imputer.fit_transform(train.iloc[:, 1:])\n",
    "test_data_imputed = imputer.fit_transform(test.iloc[:, 1:])"
   ]
  },
  {
   "cell_type": "markdown",
   "id": "5884b994-6471-45d5-8bf2-5e582c1f9ef7",
   "metadata": {},
   "source": [
    "#### 3"
   ]
  },
  {
   "cell_type": "code",
   "execution_count": 61,
   "id": "811bb0e4-d8f7-4dd3-a182-45c02f317578",
   "metadata": {},
   "outputs": [],
   "source": [
    "class KNNClassifier:\n",
    "    def __init__(self, K):\n",
    "        self.K = K\n",
    "        self.X_train = None\n",
    "        self.y_train = None\n",
    "    \n",
    "    def fit(self, X_train, y_train):\n",
    "        self.X_train = X_train\n",
    "        self.y_train = y_train\n",
    "    \n",
    "    def predict(self, X_query):\n",
    "        predictions = np.zeros(X_query.shape[0], dtype=object)\n",
    "        \n",
    "        for i, query_point in enumerate(X_query):\n",
    "            distances = np.array([euclidean_distance(query_point, x) for x in self.X_train])\n",
    "            \n",
    "            nearest_neighbor_indices = np.argsort(distances)[:self.K]\n",
    "            \n",
    "            nearest_labels = self.y_train.iloc[nearest_neighbor_indices].values\n",
    "            \n",
    "            class_counts = {}\n",
    "            for label in nearest_labels:\n",
    "                if label in class_counts:\n",
    "                    class_counts[label] += 1\n",
    "                else:\n",
    "                    class_counts[label] = 1\n",
    "            \n",
    "            predicted_class = max(class_counts, key=class_counts.get)\n",
    "            predictions[i] = predicted_class\n",
    "        \n",
    "        return predictions\n"
   ]
  },
  {
   "cell_type": "code",
   "execution_count": 62,
   "id": "39bb0599-60a6-40fe-9e1c-d5521fa41f6a",
   "metadata": {},
   "outputs": [],
   "source": [
    "def euclidean_distance(xa, xb):\n",
    "    return np.sqrt(np.sum((xa - xb) ** 2))"
   ]
  },
  {
   "cell_type": "code",
   "execution_count": 63,
   "id": "4d33f447-ba90-43c3-9ef1-becc674bbbd1",
   "metadata": {},
   "outputs": [],
   "source": [
    "def accuracy_score(y_true, y_pred):\n",
    "    return np.sum(y_true == y_pred) / len(y_true)"
   ]
  },
  {
   "cell_type": "code",
   "execution_count": 105,
   "id": "811fc993-88d7-49ea-8a5e-061bd4f8a106",
   "metadata": {},
   "outputs": [],
   "source": [
    "x_train = train_data_imputed\n",
    "x_test = test_data_imputed\n",
    "y_train = train.iloc[:, 0]\n",
    "y_test = test.iloc[:, 0]"
   ]
  },
  {
   "cell_type": "code",
   "execution_count": 107,
   "id": "5dd310f4-a99f-469e-a2a3-7c2477ba33c8",
   "metadata": {},
   "outputs": [
    {
     "name": "stdout",
     "output_type": "stream",
     "text": [
      "K=1, Validation Accuracy=0.5000\n",
      "K=2, Validation Accuracy=0.5000\n",
      "K=3, Validation Accuracy=0.7500\n",
      "K=4, Validation Accuracy=0.7500\n",
      "K=5, Validation Accuracy=0.7500\n",
      "K=6, Validation Accuracy=0.7500\n",
      "K=7, Validation Accuracy=0.7500\n",
      "K=8, Validation Accuracy=0.5000\n",
      "Optimal K: 3 with Validation Accuracy: 0.7500\n"
     ]
    }
   ],
   "source": [
    "X_train, X_val, y_train_split, y_val = train_test_split(x_train, y_train, test_size=0.2, random_state=42)\n",
    "\n",
    "best_k = None\n",
    "best_accuracy = 0\n",
    "\n",
    "for k in range(1,9):\n",
    "    knn = KNNClassifier(K=k)\n",
    "    knn.fit(X_train, y_train_split)\n",
    "    \n",
    "    y_val_pred = knn.predict(X_val)\n",
    "    \n",
    "    val_accuracy = accuracy_score(y_val, y_val_pred)\n",
    "    print(f\"K={k}, Validation Accuracy={val_accuracy:.4f}\")\n",
    "    \n",
    "    if val_accuracy > best_accuracy:\n",
    "        best_k = k\n",
    "        best_accuracy = val_accuracy\n",
    "\n",
    "print(f\"Optimal K: {best_k} with Validation Accuracy: {best_accuracy:.4f}\")"
   ]
  },
  {
   "cell_type": "code",
   "execution_count": 108,
   "id": "cc465467-cf16-4a96-8ca2-973ed0f9238f",
   "metadata": {},
   "outputs": [
    {
     "name": "stdout",
     "output_type": "stream",
     "text": [
      "Test Accuracy with K=3: 0.8406\n"
     ]
    }
   ],
   "source": [
    "final_knn = KNNClassifier(K=best_k)\n",
    "final_knn.fit(x_train, y_train)\n",
    "y_test_pred = final_knn.predict(x_test)\n",
    "test_accuracy = accuracy_score(y_test, y_test_pred)\n",
    "print(f\"Test Accuracy with K={best_k}: {test_accuracy:.4f}\")"
   ]
  },
  {
   "cell_type": "markdown",
   "id": "df40ee3c-30c1-4814-8083-00a52b561598",
   "metadata": {},
   "source": [
    "### 2. Decision Tree Regression Implementation"
   ]
  },
  {
   "cell_type": "code",
   "execution_count": 23,
   "id": "d2f62eb7-4054-4f80-84e7-64e32bcbb4aa",
   "metadata": {},
   "outputs": [],
   "source": [
    "class TreeNode:\n",
    "    def __init__(self):\n",
    "        self.predicted_value = None\n",
    "        self.split_feature = None\n",
    "        self.threshold = None\n",
    "        self.left = None\n",
    "        self.right = None"
   ]
  },
  {
   "cell_type": "code",
   "execution_count": 91,
   "id": "36a8c84f-3d16-4ee2-a8fa-69dedd77e5b9",
   "metadata": {},
   "outputs": [],
   "source": [
    "class DecisionTreeRegressor:\n",
    "    def __init__(self, min_samples_split=2, max_depth=None):\n",
    "        self.min_samples_split = min_samples_split\n",
    "        self.max_depth = max_depth\n",
    "        self.root = None\n",
    "\n",
    "    def fit(self, X, y):\n",
    "        self.root = self._build_tree(X, y, depth=0)\n",
    "        \n",
    "    def _build_tree(self, X, y, depth = 0):\n",
    "        node = TreeNode()\n",
    "        \n",
    "        if depth == self.max_depth or len(y) < self.min_samples_split:\n",
    "            node.predicted_value = np.mean(y)\n",
    "            return node\n",
    "\n",
    "        best_feature, best_threshold, best_rss = self._find_best_split(X, y)\n",
    "\n",
    "        if best_feature is None:\n",
    "            node.predicted_value = np.mean(y)\n",
    "            return node\n",
    "\n",
    "        node.split_feature = best_feature\n",
    "        node.threshold = best_threshold\n",
    "\n",
    "        left_indices = X[:, best_feature] <= best_threshold\n",
    "        right_indices = X[:, best_feature] > best_threshold\n",
    "\n",
    "        X_left, y_left = X[left_indices], y[left_indices]\n",
    "        X_right, y_right = X[right_indices], y[right_indices]\n",
    "\n",
    "        node.left = self._build_tree(X_left, y_left, depth + 1)\n",
    "        node.right = self._build_tree(X_right, y_right, depth + 1)\n",
    "\n",
    "        return node\n",
    "\n",
    "    def _find_best_split(self, X, y):\n",
    "    \n",
    "        best_rss = float('inf')\n",
    "        best_feature = None\n",
    "        best_threshold = None\n",
    "    \n",
    "        for feature_index in range(X.shape[1]):\n",
    "            unique_threshold = sorted(set(X[:, feature_index]))\n",
    "    \n",
    "            for threshold in unique_threshold:\n",
    "                left_indices = X[:, feature_index] <= threshold\n",
    "                right_indices = X[:, feature_index] > threshold\n",
    "    \n",
    "                if left_indices.sum() == 0 or right_indices.sum() == 0:\n",
    "                    continue\n",
    "    \n",
    "                y_left = y[left_indices]\n",
    "                y_right = y[right_indices]\n",
    "                \n",
    "                current_rss = self. _calculate_rss(y_left, y_right)\n",
    "    \n",
    "                if current_rss < best_rss:\n",
    "                    best_rss = current_rss\n",
    "                    best_feature = feature_index\n",
    "                    best_threshold = threshold\n",
    "    \n",
    "        return best_feature, best_threshold, best_rss\n",
    "\n",
    "    def _calculate_rss(self, y_left, y_right):\n",
    "        rss_left = np.sum((y_left - np.mean(y_left)) ** 2)\n",
    "        rss_right = np.sum((y_right - np.mean(y_right)) ** 2)\n",
    "        return rss_left + rss_right\n",
    "\n",
    "    def predict(self, X):\n",
    "        return np.array([self._predict_sample(sample, self.root) for sample in X])\n",
    "\n",
    "    def _predict_sample(self, sample, node):\n",
    "        if node.left is None and node.right is None:\n",
    "            return node.predicted_value\n",
    "\n",
    "        if sample[node.split_feature] <= node.threshold:\n",
    "            return self._predict_sample(sample, node.left)\n",
    "        else:\n",
    "            return self._predict_sample(sample, node.right)\n",
    "                "
   ]
  },
  {
   "cell_type": "code",
   "execution_count": 96,
   "id": "fc11d254-cbf9-470a-af3b-a74d8c6be9b0",
   "metadata": {},
   "outputs": [
    {
     "name": "stdout",
     "output_type": "stream",
     "text": [
      "Mean Squared Error (MSE): 0.0\n"
     ]
    }
   ],
   "source": [
    "iris = load_iris()\n",
    "X = iris.data\n",
    "y = iris.target\n",
    "\n",
    "X_train, X_test, y_train, y_test = train_test_split(X, y, test_size=0.2, random_state=42)\n",
    "\n",
    "tree_regressor = DecisionTreeRegressor(max_depth=5, min_samples_split=5)\n",
    "tree_regressor.fit(X_train, y_train)\n",
    "\n",
    "y_pred = tree_regressor.predict(X_test)\n",
    "\n",
    "mse = mean_squared_error(y_test, y_pred)\n",
    "print(f\"Mean Squared Error (MSE): {mse}\")\n"
   ]
  },
  {
   "cell_type": "code",
   "execution_count": 97,
   "id": "d707a57d-9cbf-45e6-889d-c5a59f86eba3",
   "metadata": {},
   "outputs": [
    {
     "name": "stdout",
     "output_type": "stream",
     "text": [
      "Predictions:  [1. 0. 2. 1. 1. 0. 1. 2. 1. 1. 2. 0. 0. 0. 0. 1. 2. 1. 1. 2. 0. 2. 0. 2.\n",
      " 2. 2. 2. 2. 0. 0.]\n",
      "Actual:  [1 0 2 1 1 0 1 2 1 1 2 0 0 0 0 1 2 1 1 2 0 2 0 2 2 2 2 2 0 0]\n"
     ]
    }
   ],
   "source": [
    "print(\"Predictions: \", y_pred)\n",
    "print(\"Actual: \", y_test)"
   ]
  }
 ],
 "metadata": {
  "kernelspec": {
   "display_name": "Python 3 (ipykernel)",
   "language": "python",
   "name": "python3"
  },
  "language_info": {
   "codemirror_mode": {
    "name": "ipython",
    "version": 3
   },
   "file_extension": ".py",
   "mimetype": "text/x-python",
   "name": "python",
   "nbconvert_exporter": "python",
   "pygments_lexer": "ipython3",
   "version": "3.11.9"
  }
 },
 "nbformat": 4,
 "nbformat_minor": 5
}
