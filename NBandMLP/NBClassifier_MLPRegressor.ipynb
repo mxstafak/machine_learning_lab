{
 "cells": [
  {
   "cell_type": "code",
   "execution_count": 173,
   "id": "8465e3b0-9285-4ae5-8eb5-7fe5a5361c83",
   "metadata": {},
   "outputs": [],
   "source": [
    "import pandas as pd \n",
    "import numpy as np \n",
    "from sklearn.datasets import fetch_california_housing\n",
    "from sklearn.model_selection import train_test_split\n",
    "from sklearn.preprocessing import StandardScaler\n",
    "from sklearn.naive_bayes import GaussianNB\n",
    "import torch\n",
    "import torch.nn as nn\n",
    "import torch.optim as optim\n",
    "from torch.utils.data import DataLoader, TensorDataset\n",
    "import matplotlib.pyplot as plt"
   ]
  },
  {
   "cell_type": "markdown",
   "id": "6b975e23-2989-48b0-a1a2-289d47e0cbf0",
   "metadata": {},
   "source": [
    "### 1 Naive Bayesian Classifier"
   ]
  },
  {
   "cell_type": "code",
   "execution_count": 174,
   "id": "0f07eb4b-8370-4b5d-bf63-b61ea7398d11",
   "metadata": {},
   "outputs": [],
   "source": [
    "class GNiaveBayesClassifier:\n",
    "    def __init__(self):\n",
    "        self.means = {}\n",
    "        self.variances = {}\n",
    "        self.priors = {}\n",
    "\n",
    "    \n",
    "    def fit(self, X, y):\n",
    "        self.classes = np.unique(y)\n",
    "        \n",
    "        for cls in self.classes:\n",
    "            X_cls = X[y == cls]\n",
    "            self.means[cls] = X_cls.mean(axis=0)\n",
    "            self.variances[cls] = X_cls.var(axis=0)\n",
    "            self.priors[cls] = X_cls.shape[0] / X.shape[0]\n",
    "\n",
    "    \n",
    "    def predict(self, X):\n",
    "        predictions = []\n",
    "        for x in X:\n",
    "            posteriors = []\n",
    "            for cls in self.classes:\n",
    "                #could use log here and turn the products into addition for numerical stability\n",
    "                prior = self.priors[cls]\n",
    "                likelihood = np.prod(self._gaussian_proba(x, self.means[cls], self.variances[cls]))\n",
    "                posteriors.append(prior*likelihood)\n",
    "            predictions.append(self.classes[np.argmax(posteriors)])\n",
    "        return np.array(predictions)\n",
    "\n",
    "    \n",
    "    def _gaussian_proba(self, X, mean, var):\n",
    "        eps = 1e-6 \n",
    "        coeff = 1 / np.sqrt(2 * np.pi * (var + eps))\n",
    "        exponent = np.exp(-((X - mean)**2) / (2 * (var + eps)))\n",
    "        return coeff * exponent\n",
    "        "
   ]
  },
  {
   "cell_type": "code",
   "execution_count": 175,
   "id": "fe3847bf-5cfd-4f22-88f7-4405199d4085",
   "metadata": {},
   "outputs": [],
   "source": [
    "def accuracy(y_true, y_pred):\n",
    "    return np.mean(y_true == y_pred)\n",
    "\n",
    "def precision(y_true, y_pred):\n",
    "    tp = np.sum((y_true == 'M') & (y_pred == 'M'))\n",
    "    fp = np.sum((y_true == 'B') & (y_pred == 'M'))\n",
    "    return tp / (tp + fp) if (tp + fp) > 0 else 0\n",
    "\n",
    "def recall(y_true, y_pred):\n",
    "    tp = np.sum((y_true == 'M') & (y_pred == 'M'))\n",
    "    fn = np.sum((y_true == 'M') & (y_pred == 'B'))\n",
    "    return tp / (tp + fn) if (tp + fn) > 0 else 0\n",
    "\n",
    "def f1score(y_true, y_pred):\n",
    "    p = precision(y_true, y_pred)\n",
    "    r = recall(y_true, y_pred)\n",
    "    return 2 * (p * r) / (p + r) if (p + r) > 0 else 0"
   ]
  },
  {
   "cell_type": "code",
   "execution_count": 176,
   "id": "2ee6be89-252d-445d-b6a2-cf150f1a677d",
   "metadata": {},
   "outputs": [],
   "source": [
    "df = pd.read_csv('logistic (1).csv')"
   ]
  },
  {
   "cell_type": "code",
   "execution_count": 177,
   "id": "59335f21-26e1-42b7-9ce5-e617a084e1b8",
   "metadata": {},
   "outputs": [
    {
     "data": {
      "text/html": [
       "<div>\n",
       "<style scoped>\n",
       "    .dataframe tbody tr th:only-of-type {\n",
       "        vertical-align: middle;\n",
       "    }\n",
       "\n",
       "    .dataframe tbody tr th {\n",
       "        vertical-align: top;\n",
       "    }\n",
       "\n",
       "    .dataframe thead th {\n",
       "        text-align: right;\n",
       "    }\n",
       "</style>\n",
       "<table border=\"1\" class=\"dataframe\">\n",
       "  <thead>\n",
       "    <tr style=\"text-align: right;\">\n",
       "      <th></th>\n",
       "      <th>Y</th>\n",
       "      <th>X1</th>\n",
       "      <th>X2</th>\n",
       "      <th>X3</th>\n",
       "      <th>X4</th>\n",
       "      <th>X5</th>\n",
       "      <th>X6</th>\n",
       "      <th>X7</th>\n",
       "      <th>X8</th>\n",
       "      <th>X9</th>\n",
       "      <th>...</th>\n",
       "      <th>X21</th>\n",
       "      <th>X22</th>\n",
       "      <th>X23</th>\n",
       "      <th>X24</th>\n",
       "      <th>X25</th>\n",
       "      <th>X26</th>\n",
       "      <th>X27</th>\n",
       "      <th>X28</th>\n",
       "      <th>X29</th>\n",
       "      <th>X30</th>\n",
       "    </tr>\n",
       "  </thead>\n",
       "  <tbody>\n",
       "    <tr>\n",
       "      <th>0</th>\n",
       "      <td>M</td>\n",
       "      <td>17.99</td>\n",
       "      <td>10.38</td>\n",
       "      <td>122.80</td>\n",
       "      <td>1001.0</td>\n",
       "      <td>0.11840</td>\n",
       "      <td>0.27760</td>\n",
       "      <td>0.3001</td>\n",
       "      <td>0.14710</td>\n",
       "      <td>0.2419</td>\n",
       "      <td>...</td>\n",
       "      <td>25.38</td>\n",
       "      <td>17.33</td>\n",
       "      <td>184.60</td>\n",
       "      <td>2019.0</td>\n",
       "      <td>0.1622</td>\n",
       "      <td>0.6656</td>\n",
       "      <td>0.7119</td>\n",
       "      <td>0.2654</td>\n",
       "      <td>0.4601</td>\n",
       "      <td>0.11890</td>\n",
       "    </tr>\n",
       "    <tr>\n",
       "      <th>1</th>\n",
       "      <td>M</td>\n",
       "      <td>20.57</td>\n",
       "      <td>17.77</td>\n",
       "      <td>132.90</td>\n",
       "      <td>1326.0</td>\n",
       "      <td>0.08474</td>\n",
       "      <td>0.07864</td>\n",
       "      <td>0.0869</td>\n",
       "      <td>0.07017</td>\n",
       "      <td>0.1812</td>\n",
       "      <td>...</td>\n",
       "      <td>24.99</td>\n",
       "      <td>23.41</td>\n",
       "      <td>158.80</td>\n",
       "      <td>1956.0</td>\n",
       "      <td>0.1238</td>\n",
       "      <td>0.1866</td>\n",
       "      <td>0.2416</td>\n",
       "      <td>0.1860</td>\n",
       "      <td>0.2750</td>\n",
       "      <td>0.08902</td>\n",
       "    </tr>\n",
       "    <tr>\n",
       "      <th>2</th>\n",
       "      <td>M</td>\n",
       "      <td>19.69</td>\n",
       "      <td>21.25</td>\n",
       "      <td>130.00</td>\n",
       "      <td>1203.0</td>\n",
       "      <td>0.10960</td>\n",
       "      <td>0.15990</td>\n",
       "      <td>0.1974</td>\n",
       "      <td>0.12790</td>\n",
       "      <td>0.2069</td>\n",
       "      <td>...</td>\n",
       "      <td>23.57</td>\n",
       "      <td>25.53</td>\n",
       "      <td>152.50</td>\n",
       "      <td>1709.0</td>\n",
       "      <td>0.1444</td>\n",
       "      <td>0.4245</td>\n",
       "      <td>0.4504</td>\n",
       "      <td>0.2430</td>\n",
       "      <td>0.3613</td>\n",
       "      <td>0.08758</td>\n",
       "    </tr>\n",
       "    <tr>\n",
       "      <th>3</th>\n",
       "      <td>M</td>\n",
       "      <td>11.42</td>\n",
       "      <td>20.38</td>\n",
       "      <td>77.58</td>\n",
       "      <td>386.1</td>\n",
       "      <td>0.14250</td>\n",
       "      <td>0.28390</td>\n",
       "      <td>0.2414</td>\n",
       "      <td>0.10520</td>\n",
       "      <td>0.2597</td>\n",
       "      <td>...</td>\n",
       "      <td>14.91</td>\n",
       "      <td>26.50</td>\n",
       "      <td>98.87</td>\n",
       "      <td>567.7</td>\n",
       "      <td>0.2098</td>\n",
       "      <td>0.8663</td>\n",
       "      <td>0.6869</td>\n",
       "      <td>0.2575</td>\n",
       "      <td>0.6638</td>\n",
       "      <td>0.17300</td>\n",
       "    </tr>\n",
       "    <tr>\n",
       "      <th>4</th>\n",
       "      <td>M</td>\n",
       "      <td>20.29</td>\n",
       "      <td>14.34</td>\n",
       "      <td>135.10</td>\n",
       "      <td>1297.0</td>\n",
       "      <td>0.10030</td>\n",
       "      <td>0.13280</td>\n",
       "      <td>0.1980</td>\n",
       "      <td>0.10430</td>\n",
       "      <td>0.1809</td>\n",
       "      <td>...</td>\n",
       "      <td>22.54</td>\n",
       "      <td>16.67</td>\n",
       "      <td>152.20</td>\n",
       "      <td>1575.0</td>\n",
       "      <td>0.1374</td>\n",
       "      <td>0.2050</td>\n",
       "      <td>0.4000</td>\n",
       "      <td>0.1625</td>\n",
       "      <td>0.2364</td>\n",
       "      <td>0.07678</td>\n",
       "    </tr>\n",
       "  </tbody>\n",
       "</table>\n",
       "<p>5 rows × 31 columns</p>\n",
       "</div>"
      ],
      "text/plain": [
       "   Y     X1     X2      X3      X4       X5       X6      X7       X8      X9  \\\n",
       "0  M  17.99  10.38  122.80  1001.0  0.11840  0.27760  0.3001  0.14710  0.2419   \n",
       "1  M  20.57  17.77  132.90  1326.0  0.08474  0.07864  0.0869  0.07017  0.1812   \n",
       "2  M  19.69  21.25  130.00  1203.0  0.10960  0.15990  0.1974  0.12790  0.2069   \n",
       "3  M  11.42  20.38   77.58   386.1  0.14250  0.28390  0.2414  0.10520  0.2597   \n",
       "4  M  20.29  14.34  135.10  1297.0  0.10030  0.13280  0.1980  0.10430  0.1809   \n",
       "\n",
       "   ...    X21    X22     X23     X24     X25     X26     X27     X28     X29  \\\n",
       "0  ...  25.38  17.33  184.60  2019.0  0.1622  0.6656  0.7119  0.2654  0.4601   \n",
       "1  ...  24.99  23.41  158.80  1956.0  0.1238  0.1866  0.2416  0.1860  0.2750   \n",
       "2  ...  23.57  25.53  152.50  1709.0  0.1444  0.4245  0.4504  0.2430  0.3613   \n",
       "3  ...  14.91  26.50   98.87   567.7  0.2098  0.8663  0.6869  0.2575  0.6638   \n",
       "4  ...  22.54  16.67  152.20  1575.0  0.1374  0.2050  0.4000  0.1625  0.2364   \n",
       "\n",
       "       X30  \n",
       "0  0.11890  \n",
       "1  0.08902  \n",
       "2  0.08758  \n",
       "3  0.17300  \n",
       "4  0.07678  \n",
       "\n",
       "[5 rows x 31 columns]"
      ]
     },
     "execution_count": 177,
     "metadata": {},
     "output_type": "execute_result"
    }
   ],
   "source": [
    "df.head()"
   ]
  },
  {
   "cell_type": "code",
   "execution_count": 178,
   "id": "c31b8a29-02ea-4d55-97c0-4add428df9c6",
   "metadata": {},
   "outputs": [],
   "source": [
    "X = df.iloc[:,1:].values \n",
    "y = df.iloc[:,0].values\n",
    "\n",
    "X_train, X_test, y_train, y_test = train_test_split(X, y, test_size=0.2, random_state=42)\n",
    "\n",
    "scaler = StandardScaler()\n",
    "X_train = scaler.fit_transform(X_train)\n",
    "X_test = scaler.transform(X_test)"
   ]
  },
  {
   "cell_type": "code",
   "execution_count": 179,
   "id": "8b6917c9-dedb-4352-a647-01d8886c1be3",
   "metadata": {},
   "outputs": [],
   "source": [
    "pgnb = GNiaveBayesClassifier()\n",
    "pgnb.fit(X_train, y_train)\n",
    "y_pred_pgnb = pgnb.predict(X_test)"
   ]
  },
  {
   "cell_type": "code",
   "execution_count": 180,
   "id": "51ed2d48-dc24-42e9-b16b-de53584d5141",
   "metadata": {},
   "outputs": [],
   "source": [
    "pgnb_accuracy = accuracy(y_test, y_pred_pgnb)\n",
    "pgnb_precision = precision(y_test, y_pred_pgnb)\n",
    "pgnb_recall = recall(y_test, y_pred_pgnb)\n",
    "pgnb_f1 = f1score(y_test, y_pred_pgnb)"
   ]
  },
  {
   "cell_type": "code",
   "execution_count": 181,
   "id": "c725c24e-4f42-433f-9441-29ca19a88968",
   "metadata": {},
   "outputs": [
    {
     "name": "stdout",
     "output_type": "stream",
     "text": [
      "0.9649122807017544\n",
      "0.975609756097561\n",
      "0.9302325581395349\n",
      "0.9523809523809524\n"
     ]
    }
   ],
   "source": [
    "print(pgnb_accuracy)\n",
    "print(pgnb_precision)\n",
    "print(pgnb_recall)\n",
    "print(pgnb_f1)"
   ]
  },
  {
   "cell_type": "code",
   "execution_count": 182,
   "id": "295c7541-4e96-4538-ae7d-dc0b9613c895",
   "metadata": {},
   "outputs": [],
   "source": [
    "gnb = GaussianNB()\n",
    "gnb.fit(X_train, y_train)\n",
    "y_pred_sk = gnb.predict(X_test)\n",
    "\n",
    "sk_accuracy = accuracy(y_test, y_pred_sk)\n",
    "sk_precision = precision(y_test, y_pred_sk)\n",
    "sk_recall = recall(y_test, y_pred_sk)\n",
    "sk_f1 = f1score(y_test, y_pred_sk)"
   ]
  },
  {
   "cell_type": "code",
   "execution_count": 183,
   "id": "6dcf722f-442e-46b4-9572-e978c9bad576",
   "metadata": {},
   "outputs": [
    {
     "name": "stdout",
     "output_type": "stream",
     "text": [
      "0.9649122807017544\n",
      "0.975609756097561\n",
      "0.9302325581395349\n",
      "0.9523809523809524\n"
     ]
    }
   ],
   "source": [
    "print(sk_accuracy)\n",
    "print(sk_precision)\n",
    "print(sk_recall)\n",
    "print(sk_f1)"
   ]
  },
  {
   "cell_type": "markdown",
   "id": "fb90a773-897a-4f33-b2ef-4a6a89ecda2d",
   "metadata": {},
   "source": [
    "### 2 MLP Regressor with PyTorch"
   ]
  },
  {
   "cell_type": "code",
   "execution_count": 205,
   "id": "d9451f0e-3fcd-4c76-aea8-92070629992b",
   "metadata": {},
   "outputs": [],
   "source": [
    "class MLPRegressor(torch.nn.Module):\n",
    "    def __init__(self, input_dim, hidden_layers, activation_fn):\n",
    "        super(MLPRegressor, self).__init__()\n",
    "        layers = []\n",
    "        in_dim = input_dim\n",
    "        for layer in hidden_layers:\n",
    "            layers.append(nn.Linear(in_dim, layer))\n",
    "            layers.append(activation_fn())\n",
    "            in_dim = layer\n",
    "        layers.append(nn.Linear(in_dim, 1))\n",
    "        self.model = nn.Sequential(*layers)\n",
    "\n",
    "    def forward(self, x):\n",
    "        return self.model(x)"
   ]
  },
  {
   "cell_type": "code",
   "execution_count": 206,
   "id": "8e095e72-5f80-4214-8ff0-4e0d3504787e",
   "metadata": {},
   "outputs": [],
   "source": [
    "data = fetch_california_housing()\n",
    "X, y = data.data, data.target  \n",
    "\n",
    "X_train, X_temp, y_train, y_temp = train_test_split(X, y, test_size=0.3, random_state=42)\n",
    "X_val, X_test, y_val, y_test = train_test_split(X_temp, y_temp, test_size=0.5, random_state=42)\n",
    "\n",
    "scaler = StandardScaler()\n",
    "X_train = scaler.fit_transform(X_train)\n",
    "X_val = scaler.transform(X_val)\n",
    "X_test = scaler.transform(X_test)\n",
    "\n",
    "X_train = torch.tensor(X_train, dtype=torch.float32)\n",
    "y_train = torch.tensor(y_train, dtype=torch.float32).view(-1, 1)\n",
    "X_val = torch.tensor(X_val, dtype=torch.float32)\n",
    "y_val = torch.tensor(y_val, dtype=torch.float32).view(-1, 1)\n",
    "X_test = torch.tensor(X_test, dtype=torch.float32)\n",
    "y_test = torch.tensor(y_test, dtype=torch.float32).view(-1, 1)\n",
    "\n",
    "train_loader = DataLoader(TensorDataset(X_train, y_train), batch_size=32, shuffle=True)\n",
    "val_loader = DataLoader(TensorDataset(X_val, y_val), batch_size=32)"
   ]
  },
  {
   "cell_type": "code",
   "execution_count": 207,
   "id": "20489cd0-3707-47ab-bb95-186155627984",
   "metadata": {},
   "outputs": [],
   "source": [
    "input_dim = X_train.shape[1]\n",
    "hidden_layers = [64, 32]\n",
    "activation_fn = nn.ReLU\n",
    "model = MLPRegressor(input_dim, hidden_layers, activation_fn)"
   ]
  },
  {
   "cell_type": "code",
   "execution_count": 208,
   "id": "30dc2b94-b214-4d1f-8a0e-35542f9ec959",
   "metadata": {},
   "outputs": [],
   "source": [
    "optimizer = optim.Adam(model.parameters(), lr=0.001)\n",
    "criterion = nn.MSELoss()"
   ]
  },
  {
   "cell_type": "code",
   "execution_count": 209,
   "id": "4841a206-43e2-4627-a92e-26b88a3e6354",
   "metadata": {
    "scrolled": true
   },
   "outputs": [
    {
     "name": "stdout",
     "output_type": "stream",
     "text": [
      "Epoch 1/50, Train Loss: 1.1203, Val Loss: 0.5220\n",
      "Epoch 2/50, Train Loss: 0.4566, Val Loss: 0.4409\n",
      "Epoch 3/50, Train Loss: 0.4110, Val Loss: 0.4181\n",
      "Epoch 4/50, Train Loss: 0.3972, Val Loss: 0.3965\n",
      "Epoch 5/50, Train Loss: 0.3801, Val Loss: 0.3854\n",
      "Epoch 6/50, Train Loss: 0.3629, Val Loss: 0.3731\n",
      "Epoch 7/50, Train Loss: 0.3538, Val Loss: 0.3756\n",
      "Epoch 8/50, Train Loss: 0.3495, Val Loss: 0.3687\n",
      "Epoch 9/50, Train Loss: 0.3415, Val Loss: 0.3505\n",
      "Epoch 10/50, Train Loss: 0.3314, Val Loss: 0.3502\n",
      "Epoch 11/50, Train Loss: 0.3279, Val Loss: 0.3389\n",
      "Epoch 12/50, Train Loss: 0.3190, Val Loss: 0.3409\n",
      "Epoch 13/50, Train Loss: 0.3156, Val Loss: 0.3377\n",
      "Epoch 14/50, Train Loss: 0.3091, Val Loss: 0.3279\n",
      "Epoch 15/50, Train Loss: 0.3098, Val Loss: 0.3224\n",
      "Epoch 16/50, Train Loss: 0.3005, Val Loss: 0.3518\n",
      "Epoch 17/50, Train Loss: 0.2969, Val Loss: 0.3173\n",
      "Epoch 18/50, Train Loss: 0.2939, Val Loss: 0.3155\n",
      "Epoch 19/50, Train Loss: 0.2952, Val Loss: 0.3182\n",
      "Epoch 20/50, Train Loss: 0.2904, Val Loss: 0.3156\n",
      "Epoch 21/50, Train Loss: 0.2921, Val Loss: 0.3159\n",
      "Epoch 22/50, Train Loss: 0.2853, Val Loss: 0.3073\n",
      "Epoch 23/50, Train Loss: 0.2851, Val Loss: 0.3160\n",
      "Epoch 24/50, Train Loss: 0.2840, Val Loss: 0.3021\n",
      "Epoch 25/50, Train Loss: 0.2814, Val Loss: 0.3069\n",
      "Epoch 26/50, Train Loss: 0.2810, Val Loss: 0.3013\n",
      "Epoch 27/50, Train Loss: 0.2774, Val Loss: 0.3041\n",
      "Epoch 28/50, Train Loss: 0.2761, Val Loss: 0.3059\n",
      "Epoch 29/50, Train Loss: 0.2776, Val Loss: 0.2986\n",
      "Epoch 30/50, Train Loss: 0.2764, Val Loss: 0.3046\n",
      "Epoch 31/50, Train Loss: 0.2743, Val Loss: 0.3123\n",
      "Epoch 32/50, Train Loss: 0.2749, Val Loss: 0.2955\n",
      "Epoch 33/50, Train Loss: 0.2704, Val Loss: 0.3078\n",
      "Epoch 34/50, Train Loss: 0.2707, Val Loss: 0.3026\n",
      "Epoch 35/50, Train Loss: 0.2709, Val Loss: 0.2954\n",
      "Epoch 36/50, Train Loss: 0.2673, Val Loss: 0.3077\n",
      "Epoch 37/50, Train Loss: 0.2675, Val Loss: 0.2983\n",
      "Epoch 38/50, Train Loss: 0.2672, Val Loss: 0.3140\n",
      "Epoch 39/50, Train Loss: 0.2679, Val Loss: 0.2988\n",
      "Epoch 40/50, Train Loss: 0.2668, Val Loss: 0.2990\n",
      "Epoch 41/50, Train Loss: 0.2637, Val Loss: 0.2953\n",
      "Epoch 42/50, Train Loss: 0.2630, Val Loss: 0.3013\n",
      "Epoch 43/50, Train Loss: 0.2621, Val Loss: 0.3109\n",
      "Epoch 44/50, Train Loss: 0.2625, Val Loss: 0.2967\n",
      "Epoch 45/50, Train Loss: 0.2600, Val Loss: 0.2904\n",
      "Epoch 46/50, Train Loss: 0.2597, Val Loss: 0.2945\n",
      "Epoch 47/50, Train Loss: 0.2593, Val Loss: 0.2972\n",
      "Epoch 48/50, Train Loss: 0.2599, Val Loss: 0.2944\n",
      "Epoch 49/50, Train Loss: 0.2645, Val Loss: 0.2941\n",
      "Epoch 50/50, Train Loss: 0.2591, Val Loss: 0.2883\n"
     ]
    }
   ],
   "source": [
    "epochs = 50\n",
    "train_losses, val_losses = [], []\n",
    "\n",
    "for epoch in range(epochs):\n",
    "    model.train()\n",
    "    train_loss = 0.0\n",
    "    for X_batch, y_batch in train_loader:\n",
    "        optimizer.zero_grad()\n",
    "        outputs = model(X_batch)\n",
    "        loss = criterion(outputs, y_batch)\n",
    "        loss.backward()\n",
    "        optimizer.step()\n",
    "        train_loss +=loss.item()\n",
    "    train_losses.append(train_loss / len(train_loader))\n",
    "\n",
    "    model.eval()\n",
    "    val_loss = 0.0\n",
    "    with torch.no_grad():\n",
    "        for X_batch, y_batch in val_loader:\n",
    "            outputs = model(X_batch)\n",
    "            loss = criterion(outputs, y_batch)\n",
    "            val_loss += loss.item()\n",
    "    val_losses.append(val_loss / len(val_loader))\n",
    "\n",
    "    print(f\"Epoch {epoch+1}/{epochs}, Train Loss: {train_losses[-1]:.4f}, Val Loss: {val_losses[-1]:.4f}\")       "
   ]
  },
  {
   "cell_type": "code",
   "execution_count": 210,
   "id": "d597dcfb-d255-4b5c-afd0-33a483ec7ed4",
   "metadata": {},
   "outputs": [
    {
     "name": "stdout",
     "output_type": "stream",
     "text": [
      "Test MSE: 0.2566\n",
      "Test RMSE: 0.5066\n"
     ]
    }
   ],
   "source": [
    "model.eval()\n",
    "with torch.no_grad():\n",
    "    test_outputs = model(X_test_tensor)\n",
    "    test_mse = criterion(test_outputs, y_test_tensor)\n",
    "    test_rmse = torch.sqrt(test_mse).item()\n",
    "    test_mse.item()\n",
    "\n",
    "print(f\"Test MSE: {test_mse:.4f}\")\n",
    "print(f\"Test RMSE: {test_rmse:.4f}\")"
   ]
  },
  {
   "cell_type": "code",
   "execution_count": 211,
   "id": "9a1a5297-1fff-4a93-afee-18f9208da45d",
   "metadata": {},
   "outputs": [
    {
     "data": {
      "image/png": "[encoded data removed]",
      "text/plain": [
       "<Figure size 640x480 with 1 Axes>"
      ]
     },
     "metadata": {},
     "output_type": "display_data"
    }
   ],
   "source": [
    "plt.plot(train_losses, label='Training Loss')\n",
    "plt.plot(val_losses, label='Validation Loss')\n",
    "plt.xlabel('Epochs')\n",
    "plt.ylabel('Loss')\n",
    "plt.title('Loss Trajectories')\n",
    "plt.legend()\n",
    "plt.show()"
   ]
  }
 ],
 "metadata": {
  "kernelspec": {
   "display_name": "Python 3 (ipykernel)",
   "language": "python",
   "name": "python3"
  },
  "language_info": {
   "codemirror_mode": {
    "name": "ipython",
    "version": 3
   },
   "file_extension": ".py",
   "mimetype": "text/x-python",
   "name": "python",
   "nbconvert_exporter": "python",
   "pygments_lexer": "ipython3",
   "version": "3.11.9"
  }
 },
 "nbformat": 4,
 "nbformat_minor": 5
}
